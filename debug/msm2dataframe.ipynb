{
 "cells": [
  {
   "cell_type": "code",
   "execution_count": 1,
   "metadata": {},
   "outputs": [],
   "source": [
    "import numpy as np\n",
    "import pandas as pd\n",
    "import xarray as xr\n",
    "import datetime as dt"
   ]
  },
  {
   "cell_type": "code",
   "execution_count": 86,
   "metadata": {},
   "outputs": [
    {
     "name": "stdout",
     "output_type": "stream",
     "text": [
      "MSM: [0.31, 0.29, 0.67, 0.36, 0.66, 0.52, 0.17, 0.16, 0.2, 0.28, 0.38, 0.24, 0.22, 0.21, 0.19, 0.36, 0.26, 0.13, 0.18, 0.4, 0.16, 0.13, 0.48, 0.38]\n",
      "OBS: [0.0, 0.0, 1.0, 0.0, 0.0, 1.0, 0.0, 0.0, 1.0, 0.0, 0.0, 1.0, 0.0, 0.0, 1.0, 0.0, 0.0, 1.0, 0.0, 0.0, 1.0, 0.0, 0.0, 0.0]\n",
      "DIFF:[]\n"
     ]
    }
   ],
   "source": [
    "date = dt.datetime(2022,8,1)\n",
    "end_time = date + dt.timedelta(hours=1)\n",
    "\n",
    "ds = xr.open_dataset(f\"../data/{date.year}/{str(date.month).zfill(2)}/{date.year}_{str(date.month).zfill(2)}{str(date.day).zfill(2)}.nc\")\n",
    "cloud_array = ds.sel(time=slice(date, end_time))['ncld']\n",
    "\n",
    "cloud = ds.sel(lat=35,lon=139)[\"ncld\"]\n",
    "MSM_cloud = np.array(list(map(lambda x: round(x/100,2),cloud.values.tolist())))\n",
    "\n",
    "print(\"MSM: \", end=\"\")\n",
    "print(list(map(lambda x: round(x/100,2),cloud.values.tolist())))\n",
    "\n",
    "obs = pd.read_csv(f\"../obsData/44_47662/{date.year}/{date.month}/44_47662_{date.year}_{date.month}_{date.day}.csv\")\n",
    "OBS_cloud = np.round(obs[\"雲量\"].values/10)\n",
    "\n",
    "print(\"OBS: \",end=\"\")\n",
    "print(list(OBS_cloud))\n",
    "\n",
    "print(\"DIFF:\",end=\"\")\n",
    "abs_cloud = MSM_cloud - OBS_cloud\n",
    "print((list()))"
   ]
  },
  {
   "cell_type": "code",
   "execution_count": 87,
   "metadata": {},
   "outputs": [
    {
     "data": {
      "text/plain": [
       "array([ 0.31,  0.29, -0.33,  0.36,  0.66, -0.48,  0.17,  0.16, -0.8 ,\n",
       "        0.28,  0.38, -0.76,  0.22,  0.21, -0.81,  0.36,  0.26, -0.87,\n",
       "        0.18,  0.4 , -0.84,  0.13,  0.48,  0.38])"
      ]
     },
     "execution_count": 87,
     "metadata": {},
     "output_type": "execute_result"
    }
   ],
   "source": [
    "abs_cloud"
   ]
  },
  {
   "cell_type": "code",
   "execution_count": 83,
   "metadata": {},
   "outputs": [
    {
     "data": {
      "text/plain": [
       "0      0.0\n",
       "1      0.0\n",
       "2      7.0\n",
       "3      0.0\n",
       "4      0.0\n",
       "5      8.0\n",
       "6      0.0\n",
       "7      0.0\n",
       "8      8.0\n",
       "9      0.0\n",
       "10     0.0\n",
       "11     9.0\n",
       "12     0.0\n",
       "13     0.0\n",
       "14    10.0\n",
       "15     0.0\n",
       "16     0.0\n",
       "17     9.5\n",
       "18     0.0\n",
       "19     0.0\n",
       "20     9.5\n",
       "21     0.0\n",
       "22     0.0\n",
       "23     0.0\n",
       "Name: 雲量, dtype: float64"
      ]
     },
     "execution_count": 83,
     "metadata": {},
     "output_type": "execute_result"
    }
   ],
   "source": [
    "date = dt.datetime(2022,8,1)\n",
    "pd.read_csv(f\"../obsData/44_47662/{date.year}/{date.month}/44_47662_{date.year}_{date.month}_{date.day}.csv\")[\"雲量\"]"
   ]
  }
 ],
 "metadata": {
  "kernelspec": {
   "display_name": "forecast",
   "language": "python",
   "name": "python3"
  },
  "language_info": {
   "codemirror_mode": {
    "name": "ipython",
    "version": 3
   },
   "file_extension": ".py",
   "mimetype": "text/x-python",
   "name": "python",
   "nbconvert_exporter": "python",
   "pygments_lexer": "ipython3",
   "version": "3.10.11"
  },
  "orig_nbformat": 4
 },
 "nbformat": 4,
 "nbformat_minor": 2
}
