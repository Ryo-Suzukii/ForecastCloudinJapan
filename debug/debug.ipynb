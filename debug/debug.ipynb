{
 "cells": [
  {
   "cell_type": "code",
   "execution_count": 1,
   "metadata": {},
   "outputs": [],
   "source": [
    "import numpy as np\n",
    "import pandas as pd\n",
    "import xarray as xr\n",
    "import matplotlib.pyplot as plt\n",
    "import japanize_matplotlib\n",
    "import datetime as dt\n",
    "\n",
    "import os\n",
    "import sys\n",
    "sys.path.append(\"../\")\n",
    "\n",
    "import modules\n",
    "import init_weather_data.utc2jst as utc"
   ]
  },
  {
   "cell_type": "code",
   "execution_count": 10,
   "metadata": {},
   "outputs": [],
   "source": [
    "class ObsJstToUtc:\n",
    "    def __init__(self) -> None:\n",
    "        pass\n",
    "\n",
    "    def trans(self,date:dt.date):\n",
    "        self.date = date\n",
    "        prev_date = date - dt.timedelta(days=1)\n",
    "        self.prev = pd.read_csv(f\"../obsData/44_47662/{prev_date.year}/{prev_date.month}/44_47662_{prev_date.year}_{prev_date.month}_{prev_date.day}.csv\")\n",
    "        self.current = pd.read_csv(f\"../obsData/44_47662/{date.year}/{date.month}/44_47662_{date.year}_{date.month}_{date.day}.csv\")\n",
    "        self.prev[\"日付\"] = pd.to_datetime(self.prev[\"日付\"])\n",
    "        self.current[\"日付\"] = pd.to_datetime(self.current[\"日付\"])\n",
    "\n",
    "        self.prev[\"日付\"] -= dt.timedelta(hours=9)\n",
    "        self.current[\"日付\"] -= dt.timedelta(hours=9)\n",
    "    \n",
    "    def save(self):\n",
    "        os.makedirs(f\"../obsData_utc/44_47662/{self.date.year}/{self.date.month}\",exist_ok=True)\n",
    "        pd.concat([self.prev[8:],self.current[:8]]).to_csv(f\"../obsData_utc/44_47662/{self.date.year}/{self.date.month}/44_47662_{self.date.year}_{self.date.month}_{self.date.day-1}.csv\",index=False)"
   ]
  },
  {
   "cell_type": "code",
   "execution_count": 12,
   "metadata": {},
   "outputs": [],
   "source": [
    "t = ObsJstToUtc()\n",
    "t.trans(dt.date(2022,1,1))\n",
    "t.save()"
   ]
  },
  {
   "cell_type": "code",
   "execution_count": 2,
   "metadata": {},
   "outputs": [
    {
     "name": "stdout",
     "output_type": "stream",
     "text": [
      "2022-12-31     "
     ]
    }
   ],
   "source": [
    "utc.obs()"
   ]
  }
 ],
 "metadata": {
  "kernelspec": {
   "display_name": "forecast",
   "language": "python",
   "name": "python3"
  },
  "language_info": {
   "codemirror_mode": {
    "name": "ipython",
    "version": 3
   },
   "file_extension": ".py",
   "mimetype": "text/x-python",
   "name": "python",
   "nbconvert_exporter": "python",
   "pygments_lexer": "ipython3",
   "version": "3.10.11"
  },
  "orig_nbformat": 4
 },
 "nbformat": 4,
 "nbformat_minor": 2
}
