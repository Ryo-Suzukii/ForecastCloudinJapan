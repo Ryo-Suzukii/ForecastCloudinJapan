{
 "cells": [
  {
   "cell_type": "code",
   "execution_count": 6,
   "metadata": {},
   "outputs": [],
   "source": [
    "import xarray as xr\n",
    "import netCDF4"
   ]
  },
  {
   "cell_type": "code",
   "execution_count": 7,
   "metadata": {},
   "outputs": [
    {
     "ename": "ValueError",
     "evalue": "found the following matches with the input file in xarray's IO backends: ['netcdf4', 'h5netcdf', 'scipy']. But their dependencies may not be installed, see:\nhttps://docs.xarray.dev/en/stable/user-guide/io.html \nhttps://docs.xarray.dev/en/stable/getting-started-guide/installing.html",
     "output_type": "error",
     "traceback": [
      "\u001b[1;31m---------------------------------------------------------------------------\u001b[0m",
      "\u001b[1;31mValueError\u001b[0m                                Traceback (most recent call last)",
      "Cell \u001b[1;32mIn[7], line 3\u001b[0m\n\u001b[0;32m      1\u001b[0m file \u001b[39m=\u001b[39m \u001b[39m\"\u001b[39m\u001b[39mdata/0101.nc\u001b[39m\u001b[39m\"\u001b[39m\n\u001b[1;32m----> 3\u001b[0m ds \u001b[39m=\u001b[39m xr\u001b[39m.\u001b[39;49mopen_dataset(file)\n\u001b[0;32m      4\u001b[0m ds\n",
      "File \u001b[1;32mc:\\Users\\astro\\Anaconda3\\envs\\FCpy310\\lib\\site-packages\\xarray\\backends\\api.py:523\u001b[0m, in \u001b[0;36mopen_dataset\u001b[1;34m(filename_or_obj, engine, chunks, cache, decode_cf, mask_and_scale, decode_times, decode_timedelta, use_cftime, concat_characters, decode_coords, drop_variables, inline_array, backend_kwargs, **kwargs)\u001b[0m\n\u001b[0;32m    520\u001b[0m     kwargs\u001b[39m.\u001b[39mupdate(backend_kwargs)\n\u001b[0;32m    522\u001b[0m \u001b[39mif\u001b[39;00m engine \u001b[39mis\u001b[39;00m \u001b[39mNone\u001b[39;00m:\n\u001b[1;32m--> 523\u001b[0m     engine \u001b[39m=\u001b[39m plugins\u001b[39m.\u001b[39;49mguess_engine(filename_or_obj)\n\u001b[0;32m    525\u001b[0m backend \u001b[39m=\u001b[39m plugins\u001b[39m.\u001b[39mget_backend(engine)\n\u001b[0;32m    527\u001b[0m decoders \u001b[39m=\u001b[39m _resolve_decoders_kwargs(\n\u001b[0;32m    528\u001b[0m     decode_cf,\n\u001b[0;32m    529\u001b[0m     open_backend_dataset_parameters\u001b[39m=\u001b[39mbackend\u001b[39m.\u001b[39mopen_dataset_parameters,\n\u001b[1;32m   (...)\u001b[0m\n\u001b[0;32m    535\u001b[0m     decode_coords\u001b[39m=\u001b[39mdecode_coords,\n\u001b[0;32m    536\u001b[0m )\n",
      "File \u001b[1;32mc:\\Users\\astro\\Anaconda3\\envs\\FCpy310\\lib\\site-packages\\xarray\\backends\\plugins.py:177\u001b[0m, in \u001b[0;36mguess_engine\u001b[1;34m(store_spec)\u001b[0m\n\u001b[0;32m    169\u001b[0m \u001b[39melse\u001b[39;00m:\n\u001b[0;32m    170\u001b[0m     error_msg \u001b[39m=\u001b[39m (\n\u001b[0;32m    171\u001b[0m         \u001b[39m\"\u001b[39m\u001b[39mfound the following matches with the input file in xarray\u001b[39m\u001b[39m'\u001b[39m\u001b[39ms IO \u001b[39m\u001b[39m\"\u001b[39m\n\u001b[0;32m    172\u001b[0m         \u001b[39mf\u001b[39m\u001b[39m\"\u001b[39m\u001b[39mbackends: \u001b[39m\u001b[39m{\u001b[39;00mcompatible_engines\u001b[39m}\u001b[39;00m\u001b[39m. But their dependencies may not be installed, see:\u001b[39m\u001b[39m\\n\u001b[39;00m\u001b[39m\"\u001b[39m\n\u001b[0;32m    173\u001b[0m         \u001b[39m\"\u001b[39m\u001b[39mhttps://docs.xarray.dev/en/stable/user-guide/io.html \u001b[39m\u001b[39m\\n\u001b[39;00m\u001b[39m\"\u001b[39m\n\u001b[0;32m    174\u001b[0m         \u001b[39m\"\u001b[39m\u001b[39mhttps://docs.xarray.dev/en/stable/getting-started-guide/installing.html\u001b[39m\u001b[39m\"\u001b[39m\n\u001b[0;32m    175\u001b[0m     )\n\u001b[1;32m--> 177\u001b[0m \u001b[39mraise\u001b[39;00m \u001b[39mValueError\u001b[39;00m(error_msg)\n",
      "\u001b[1;31mValueError\u001b[0m: found the following matches with the input file in xarray's IO backends: ['netcdf4', 'h5netcdf', 'scipy']. But their dependencies may not be installed, see:\nhttps://docs.xarray.dev/en/stable/user-guide/io.html \nhttps://docs.xarray.dev/en/stable/getting-started-guide/installing.html"
     ]
    }
   ],
   "source": [
    "file = \"data/0101.nc\"\n",
    "\n",
    "ds = xr.open_dataset(file)\n",
    "ds"
   ]
  }
 ],
 "metadata": {
  "kernelspec": {
   "display_name": "FCpy310",
   "language": "python",
   "name": "python3"
  },
  "language_info": {
   "codemirror_mode": {
    "name": "ipython",
    "version": 3
   },
   "file_extension": ".py",
   "mimetype": "text/x-python",
   "name": "python",
   "nbconvert_exporter": "python",
   "pygments_lexer": "ipython3",
   "version": "3.10.8"
  },
  "orig_nbformat": 4,
  "vscode": {
   "interpreter": {
    "hash": "01cb1bfd58e06581e7a4e71e0c182384d9782a0aa10e7b81e97f3b3d0ac5cbd5"
   }
  }
 },
 "nbformat": 4,
 "nbformat_minor": 2
}
