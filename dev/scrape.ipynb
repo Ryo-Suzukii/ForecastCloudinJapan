{
 "cells": [
  {
   "cell_type": "code",
   "execution_count": 36,
   "metadata": {},
   "outputs": [],
   "source": [
    "from bs4 import BeautifulSoup\n",
    "import requests\n",
    "import pandas as pd\n",
    "import numpy as np\n",
    "import os"
   ]
  },
  {
   "cell_type": "code",
   "execution_count": 39,
   "metadata": {},
   "outputs": [],
   "source": [
    "os.chdir(\"c:\\\\Users\\\\astro\\\\Documents\\\\Python_Project\\\\ForecastCloudinJapan\")"
   ]
  },
  {
   "cell_type": "code",
   "execution_count": 6,
   "metadata": {},
   "outputs": [],
   "source": [
    "def make_soup(url:str):\n",
    "    res = requests.get(url)\n",
    "    return BeautifulSoup(res.content,\"html.parser\")"
   ]
  },
  {
   "cell_type": "code",
   "execution_count": 43,
   "metadata": {},
   "outputs": [],
   "source": [
    "year = 2023\n",
    "month = 1\n",
    "day = 1\n",
    "base_url = f\"https://www.data.jma.go.jp/obd/stats/etrn/view/hourly_s1.php\"\n",
    "\n",
    "soup = make_soup(base_url)"
   ]
  },
  {
   "cell_type": "code",
   "execution_count": 46,
   "metadata": {},
   "outputs": [],
   "source": [
    "class Scrape:\n",
    "    def __init__(self,base_url:str,year:int,month:int,day:int,prec_no=44,block_no=47662):\n",
    "        self.prec_no = prec_no\n",
    "        self.block_no = block_no\n",
    "        self.year = year\n",
    "        self.month = month\n",
    "        self.day = day\n",
    "        self.url = base_url+f\"?prec_no={prec_no}&block_no={block_no}&year={year}&month={month}&day={day}&view=p1\"\n",
    "        self.soup = make_soup(self.url)\n",
    "        self.cols = [\n",
    "            \"時間\",\"現地気圧\",\"海面気圧\",\"降水量\",\"気温\",\n",
    "            \"露点温度\",\"蒸気圧\",\"湿度\",\"風速\",\n",
    "            \"風向\",\"日照時間\",\"全天日射量\",\"降雪\",\"積雪\",\n",
    "            \"天気\",\"雲量\",\"視程\"\n",
    "        ]\n",
    "        self.astype_cols = {\n",
    "            \"時間\":int, \"現地気圧\":float, \"海面気圧\":float,\n",
    "            \"気温\":float, \"露点温度\":float,\n",
    "            \"蒸気圧\":float, \"湿度\":int, \"風速\":float,\n",
    "            \"日照時間\":float, \"全天日射量\":float, \"視程\":float\n",
    "        }\n",
    "    \n",
    "    def get_raw(self,hour:int) -> list:\n",
    "        raw = self.soup.select(f\"#tablefix1 > tr:nth-child({3+hour})\")[0]\n",
    "        return [i.text for i in raw.find_all(\"td\")]\n",
    "    \n",
    "    def get_all_raw(self) -> list:\n",
    "        return [self.get_raw(i) for i in range(24)]\n",
    "    \n",
    "    def ret_df(self) -> pd.DataFrame:\n",
    "        df = pd.DataFrame(data=self.get_all_raw(),columns=self.cols)\n",
    "\n",
    "        df.replace({\"--\":0,\"\":0},inplace=True)\n",
    "        df = df.astype(self.astype_cols)\n",
    "        return df\n",
    "    \n",
    "    def write2csv(self,path=\"obsData/\"):\n",
    "        path += f\"{self.prec_no}_{self.block_no}/{self.year}/{self.month}/{self.day}/\"\n",
    "\n",
    "        os.makedirs(path,exist_ok=True)\n",
    "\n",
    "        self.ret_df().to_csv(path+f\"{self.prec_no}_{self.block_no}_{self.year}_{self.month}_{self.day}.csv\",index=False)"
   ]
  },
  {
   "attachments": {},
   "cell_type": "markdown",
   "metadata": {},
   "source": [
    "-----------"
   ]
  },
  {
   "cell_type": "code",
   "execution_count": 47,
   "metadata": {},
   "outputs": [],
   "source": [
    "sc = Scrape(base_url,2022,1,1)"
   ]
  },
  {
   "cell_type": "code",
   "execution_count": 48,
   "metadata": {},
   "outputs": [],
   "source": [
    "sc.write2csv()"
   ]
  }
 ],
 "metadata": {
  "kernelspec": {
   "display_name": "FCpy310",
   "language": "python",
   "name": "python3"
  },
  "language_info": {
   "codemirror_mode": {
    "name": "ipython",
    "version": 3
   },
   "file_extension": ".py",
   "mimetype": "text/x-python",
   "name": "python",
   "nbconvert_exporter": "python",
   "pygments_lexer": "ipython3",
   "version": "3.10.8"
  },
  "orig_nbformat": 4,
  "vscode": {
   "interpreter": {
    "hash": "0ff299bddb8f1ed0c93aa4fd01fc598687c3212fd027f3109924e44472df496c"
   }
  }
 },
 "nbformat": 4,
 "nbformat_minor": 2
}
