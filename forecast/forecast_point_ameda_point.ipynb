{
 "cells": [
  {
   "cell_type": "code",
   "execution_count": 1,
   "metadata": {},
   "outputs": [],
   "source": [
    "import numpy as np\n",
    "import pandas as pd\n",
    "import pathlib\n",
    "import sys\n",
    "from datetime import date,datetime,timedelta\n",
    "\n",
    "import xarray as xr\n",
    "\n",
    "ROOT_PATH = pathlib.Path().resolve().parents[0]\n",
    "sys.path.append(ROOT_PATH)"
   ]
  },
  {
   "cell_type": "code",
   "execution_count": 90,
   "metadata": {},
   "outputs": [],
   "source": [
    "basedate = datetime(2022,1,1)"
   ]
  },
  {
   "cell_type": "code",
   "execution_count": 3,
   "metadata": {},
   "outputs": [],
   "source": [
    "xrdf = xr.open_dataset(ROOT_PATH/basedate.strftime(\"data/%Y/%m/%Y_%m%d.nc\"))\n",
    "amemaster = pd.read_csv(ROOT_PATH/\"ame_master_20230323.csv\")"
   ]
  },
  {
   "cell_type": "code",
   "execution_count": 4,
   "metadata": {},
   "outputs": [],
   "source": [
    "amemaster_kan = amemaster[(amemaster[\"種類\"] == \"官\")].drop_duplicates(subset=\"観測所番号\")"
   ]
  },
  {
   "cell_type": "code",
   "execution_count": 55,
   "metadata": {},
   "outputs": [
    {
     "data": {
      "text/plain": [
       "都府県振興局                         留萌\n",
       "観測所番号                       13277\n",
       "種類                              官\n",
       "観測所名                           留萌\n",
       "ｶﾀｶﾅ名                         ﾙﾓｲ\n",
       "気象情報等に表記する名称                留萌市大町\n",
       "所在地             留萌市大町　留萌特別地域気象観測所\n",
       "緯度(度)                          43\n",
       "緯度(分)                        56.7\n",
       "経度(度)                         141\n",
       "経度(分)                        37.9\n",
       "海面上の高さ(ｍ)                      24\n",
       "風速計の高さ(ｍ)                    16.3\n",
       "温度計の高さ(ｍ)                       －\n",
       "観測開始年月日                  昭55.6.21\n",
       "備考1                         13915\n",
       "備考2                             －\n",
       "Name: 51, dtype: object"
      ]
     },
     "execution_count": 55,
     "metadata": {},
     "output_type": "execute_result"
    }
   ],
   "source": [
    "amemaster_kan.iloc[7,:]"
   ]
  },
  {
   "cell_type": "code",
   "execution_count": 11,
   "metadata": {},
   "outputs": [
    {
     "name": "stdout",
     "output_type": "stream",
     "text": [
      "45.415 141.67833333333334\n"
     ]
    }
   ],
   "source": [
    "lat1 = 43\n",
    "lat2 = 56.7\n",
    "lon1 = 141\n",
    "lon2 = 37.9\n",
    "\n",
    "lat = lat1 + lat2 / 60\n",
    "lon = lon1 + lon2 / 60\n",
    "print(lat,lon)"
   ]
  },
  {
   "cell_type": "code",
   "execution_count": 35,
   "metadata": {},
   "outputs": [
    {
     "data": {
      "text/plain": [
       "45.39979116"
      ]
     },
     "execution_count": 35,
     "metadata": {},
     "output_type": "execute_result"
    }
   ],
   "source": [
    "int(45.415 / 0.04999977) * 0.04999977"
   ]
  },
  {
   "cell_type": "code",
   "execution_count": 5,
   "metadata": {},
   "outputs": [
    {
     "name": "stdout",
     "output_type": "stream",
     "text": [
      "45 141\n",
      "45 141\n",
      "45 141\n",
      "44 142\n",
      "43 142\n",
      "43 142\n",
      "44 141\n",
      "43 141\n",
      "43 141\n",
      "42 141\n",
      "43 141\n",
      "43 141\n",
      "42 140\n",
      "42 140\n",
      "44 142\n",
      "44 143\n",
      "44 143\n",
      "44 144\n",
      "43 144\n",
      "43 144\n",
      "43 145\n",
      "43 144\n",
      "42 144\n",
      "42 143\n",
      "42 143\n",
      "42 143\n",
      "42 141\n",
      "42 140\n",
      "42 142\n",
      "41 140\n",
      "41 140\n",
      "42 139\n",
      "41 140\n",
      "41 141\n",
      "40 140\n",
      "40 140\n",
      "40 139\n",
      "40 141\n",
      "40 140\n",
      "39 140\n",
      "39 140\n",
      "39 141\n",
      "39 141\n",
      "39 141\n",
      "39 141\n",
      "38 141\n",
      "38 140\n",
      "38 140\n",
      "38 139\n",
      "38 139\n",
      "38 140\n",
      "38 140\n",
      "38 140\n",
      "37 140\n",
      "37 139\n",
      "37 140\n",
      "37 140\n",
      "36 140\n",
      "36 140\n",
      "36 140\n",
      "36 139\n",
      "36 139\n",
      "36 139\n",
      "36 139\n",
      "35 139\n",
      "35 139\n",
      "35 139\n",
      "34 139\n",
      "34 139\n",
      "34 139\n",
      "34 139\n",
      "34 139\n",
      "34 139\n",
      "33 139\n",
      "33 139\n",
      "27 142\n",
      "24 153\n",
      "35 138\n",
      "35 140\n",
      "35 140\n",
      "35 140\n",
      "35 140\n",
      "34 139\n",
      "35 139\n",
      "36 138\n",
      "36 138\n",
      "36 137\n",
      "36 137\n",
      "36 138\n",
      "35 137\n",
      "35 138\n",
      "35 138\n",
      "35 138\n",
      "35 139\n",
      "34 138\n",
      "34 137\n",
      "34 138\n",
      "34 138\n",
      "34 138\n",
      "35 136\n",
      "34 136\n",
      "34 137\n",
      "36 137\n",
      "35 136\n",
      "34 136\n",
      "34 136\n",
      "34 136\n",
      "34 136\n",
      "38 138\n",
      "37 139\n",
      "37 139\n",
      "37 138\n",
      "36 137\n",
      "36 137\n",
      "36 137\n",
      "37 136\n",
      "37 136\n",
      "36 136\n",
      "36 136\n",
      "36 136\n",
      "35 136\n",
      "35 136\n",
      "35 135\n",
      "35 135\n",
      "34 135\n",
      "34 135\n",
      "34 135\n",
      "34 135\n",
      "35 134\n",
      "34 134\n",
      "34 135\n",
      "34 135\n",
      "34 134\n",
      "34 135\n",
      "34 135\n",
      "33 135\n",
      "33 135\n",
      "35 134\n",
      "34 133\n",
      "34 133\n",
      "34 132\n",
      "34 133\n",
      "34 132\n",
      "34 132\n",
      "36 133\n",
      "36 133\n",
      "35 132\n",
      "35 133\n",
      "34 132\n",
      "34 131\n",
      "35 133\n",
      "35 134\n",
      "35 133\n",
      "35 134\n",
      "34 134\n",
      "34 134\n",
      "34 133\n",
      "34 134\n",
      "33 132\n",
      "33 132\n",
      "33 132\n",
      "33 133\n",
      "33 133\n",
      "33 134\n",
      "32 132\n",
      "32 133\n",
      "34 131\n",
      "34 131\n",
      "33 130\n",
      "33 131\n",
      "33 131\n",
      "33 130\n",
      "33 130\n",
      "33 130\n",
      "33 131\n",
      "33 130\n",
      "33 131\n",
      "34 129\n",
      "34 129\n",
      "33 129\n",
      "33 129\n",
      "33 129\n",
      "32 129\n",
      "32 129\n",
      "32 130\n",
      "32 128\n",
      "32 128\n",
      "33 130\n",
      "33 130\n",
      "32 130\n",
      "32 130\n",
      "32 130\n",
      "32 130\n",
      "32 131\n",
      "31 131\n",
      "31 131\n",
      "31 131\n",
      "31 131\n",
      "32 130\n",
      "31 130\n",
      "31 130\n",
      "31 130\n",
      "30 130\n",
      "30 130\n",
      "30 130\n",
      "28 129\n",
      "28 129\n",
      "28 129\n",
      "27 128\n",
      "27 128\n",
      "27 128\n",
      "26 127\n",
      "26 126\n",
      "26 126\n",
      "26 127\n",
      "26 127\n",
      "25 131\n",
      "25 131\n",
      "25 131\n",
      "24 125\n",
      "24 125\n",
      "24 125\n",
      "24 124\n",
      "24 122\n",
      "24 123\n",
      "24 123\n",
      "24 124\n",
      "24 124\n"
     ]
    }
   ],
   "source": [
    "for _,i in amemaster_kan.iterrows():\n",
    "    print(i[\"緯度(度)\"],i[\"経度(度)\"])"
   ]
  },
  {
   "cell_type": "code",
   "execution_count": null,
   "metadata": {},
   "outputs": [],
   "source": [
    "amemaster_kan"
   ]
  },
  {
   "cell_type": "code",
   "execution_count": 14,
   "metadata": {},
   "outputs": [],
   "source": [
    "x = xrdf.to_dataframe()"
   ]
  },
  {
   "cell_type": "code",
   "execution_count": 15,
   "metadata": {},
   "outputs": [],
   "source": [
    "x_df = x.rename_axis(['lon', 'lat', 'time', 'ref_time']).reset_index()"
   ]
  },
  {
   "cell_type": "code",
   "execution_count": null,
   "metadata": {},
   "outputs": [],
   "source": [
    "x_df[\"lat\"].unique()"
   ]
  },
  {
   "cell_type": "code",
   "execution_count": 56,
   "metadata": {},
   "outputs": [
    {
     "name": "stdout",
     "output_type": "stream",
     "text": [
      "43.945 141.63166666666666\n"
     ]
    },
    {
     "data": {
      "text/html": [
       "<div>\n",
       "<style scoped>\n",
       "    .dataframe tbody tr th:only-of-type {\n",
       "        vertical-align: middle;\n",
       "    }\n",
       "\n",
       "    .dataframe tbody tr th {\n",
       "        vertical-align: top;\n",
       "    }\n",
       "\n",
       "    .dataframe thead th {\n",
       "        text-align: right;\n",
       "    }\n",
       "</style>\n",
       "<table border=\"1\" class=\"dataframe\">\n",
       "  <thead>\n",
       "    <tr style=\"text-align: right;\">\n",
       "      <th></th>\n",
       "      <th>lon</th>\n",
       "      <th>lat</th>\n",
       "      <th>time</th>\n",
       "      <th>ref_time</th>\n",
       "      <th>psea</th>\n",
       "      <th>sp</th>\n",
       "      <th>u</th>\n",
       "      <th>v</th>\n",
       "      <th>temp</th>\n",
       "      <th>rh</th>\n",
       "      <th>r1h</th>\n",
       "      <th>ncld_upper</th>\n",
       "      <th>ncld_mid</th>\n",
       "      <th>ncld_low</th>\n",
       "      <th>ncld</th>\n",
       "      <th>dswrf</th>\n",
       "    </tr>\n",
       "  </thead>\n",
       "  <tbody>\n",
       "    <tr>\n",
       "      <th>33562368</th>\n",
       "      <td>141.625</td>\n",
       "      <td>43.900002</td>\n",
       "      <td>2022-01-01</td>\n",
       "      <td>2022-01-01</td>\n",
       "      <td>100901.834754</td>\n",
       "      <td>100026.605137</td>\n",
       "      <td>-3.938838</td>\n",
       "      <td>-0.550459</td>\n",
       "      <td>264.017178</td>\n",
       "      <td>79.174312</td>\n",
       "      <td>200.0</td>\n",
       "      <td>0.000002</td>\n",
       "      <td>18.310001</td>\n",
       "      <td>18.066668</td>\n",
       "      <td>27.246668</td>\n",
       "      <td>665.0</td>\n",
       "    </tr>\n",
       "  </tbody>\n",
       "</table>\n",
       "</div>"
      ],
      "text/plain": [
       "              lon        lat       time   ref_time           psea  \\\n",
       "33562368  141.625  43.900002 2022-01-01 2022-01-01  100901.834754   \n",
       "\n",
       "                     sp         u         v        temp         rh    r1h  \\\n",
       "33562368  100026.605137 -3.938838 -0.550459  264.017178  79.174312  200.0   \n",
       "\n",
       "          ncld_upper   ncld_mid   ncld_low       ncld  dswrf  \n",
       "33562368    0.000002  18.310001  18.066668  27.246668  665.0  "
      ]
     },
     "execution_count": 56,
     "metadata": {},
     "output_type": "execute_result"
    }
   ],
   "source": [
    "lat1 = 43\n",
    "lat2 = 56.7\n",
    "lon1 = 141\n",
    "lon2 = 37.9\n",
    "\n",
    "lat = lat1 + lat2 / 60\n",
    "lon = lon1 + lon2 / 60\n",
    "\n",
    "print(lat,lon)\n",
    "x_df[(round(x_df[\"lon\"],2) == round(int(lon / 0.0625) * 0.0625, 2))\n",
    "    &\n",
    "    (round(x_df[\"lat\"],2) == round(int(lat / 0.04999977) * 0.04999977,2))\n",
    "    &\n",
    "    (x_df[\"ref_time\"] == \"2022-01-01 00:00:00\")\n",
    "    &\n",
    "    (x_df[\"time\"] == \"2022-01-01 00:00:00\")\n",
    "    ]"
   ]
  },
  {
   "cell_type": "code",
   "execution_count": 70,
   "metadata": {},
   "outputs": [
    {
     "data": {
      "text/plain": [
       "array([], dtype=bool)"
      ]
     },
     "execution_count": 70,
     "metadata": {},
     "output_type": "execute_result"
    }
   ],
   "source": [
    "pd.DataFrame().columns.shape[0] == 0"
   ]
  },
  {
   "cell_type": "code",
   "execution_count": 96,
   "metadata": {},
   "outputs": [],
   "source": [
    "df = pd.DataFrame()\n",
    "for _,i in amemaster_kan.iterrows():\n",
    "    lon = i[\"経度(度)\"] + i[\"経度(分)\"] / 60\n",
    "    lat = i[\"緯度(度)\"] + i[\"緯度(分)\"] / 60\n",
    "    # print(f\"\\r{lon},{lat}\",end=\"\")\n",
    "    tmpdf = x_df[(round(x_df[\"lon\"],2) == round(int(lon / 0.0625) * 0.0625, 2))\n",
    "                &\n",
    "                (round(x_df[\"lat\"],2) == round(int(lat / 0.04999977) * 0.04999977,2))\n",
    "                &\n",
    "                (pd.to_datetime(x_df[\"ref_time\"]).dt.hour == 0)\n",
    "                &\n",
    "                (pd.to_datetime(x_df[\"time\"]) == basedate)\n",
    "                ]\n",
    "    # display(tmpdf)\n",
    "    df = pd.concat([df.reset_index(drop=True),tmpdf.reset_index(drop=True)],axis=0)\n",
    "    break"
   ]
  },
  {
   "cell_type": "code",
   "execution_count": 97,
   "metadata": {},
   "outputs": [
    {
     "data": {
      "text/html": [
       "<div>\n",
       "<style scoped>\n",
       "    .dataframe tbody tr th:only-of-type {\n",
       "        vertical-align: middle;\n",
       "    }\n",
       "\n",
       "    .dataframe tbody tr th {\n",
       "        vertical-align: top;\n",
       "    }\n",
       "\n",
       "    .dataframe thead th {\n",
       "        text-align: right;\n",
       "    }\n",
       "</style>\n",
       "<table border=\"1\" class=\"dataframe\">\n",
       "  <thead>\n",
       "    <tr style=\"text-align: right;\">\n",
       "      <th></th>\n",
       "      <th>lon</th>\n",
       "      <th>lat</th>\n",
       "      <th>time</th>\n",
       "      <th>ref_time</th>\n",
       "      <th>psea</th>\n",
       "      <th>sp</th>\n",
       "      <th>u</th>\n",
       "      <th>v</th>\n",
       "      <th>temp</th>\n",
       "      <th>rh</th>\n",
       "      <th>r1h</th>\n",
       "      <th>ncld_upper</th>\n",
       "      <th>ncld_mid</th>\n",
       "      <th>ncld_low</th>\n",
       "      <th>ncld</th>\n",
       "      <th>dswrf</th>\n",
       "    </tr>\n",
       "  </thead>\n",
       "  <tbody>\n",
       "    <tr>\n",
       "      <th>0</th>\n",
       "      <td>141.625</td>\n",
       "      <td>45.400002</td>\n",
       "      <td>2022-01-01</td>\n",
       "      <td>2022-01-01</td>\n",
       "      <td>100777.064114</td>\n",
       "      <td>100564.219806</td>\n",
       "      <td>4.483181</td>\n",
       "      <td>-1.828746</td>\n",
       "      <td>266.75089</td>\n",
       "      <td>55.862386</td>\n",
       "      <td>200.0</td>\n",
       "      <td>0.000002</td>\n",
       "      <td>58.691666</td>\n",
       "      <td>29.491668</td>\n",
       "      <td>58.691666</td>\n",
       "      <td>665.0</td>\n",
       "    </tr>\n",
       "  </tbody>\n",
       "</table>\n",
       "</div>"
      ],
      "text/plain": [
       "       lon        lat       time   ref_time           psea             sp  \\\n",
       "0  141.625  45.400002 2022-01-01 2022-01-01  100777.064114  100564.219806   \n",
       "\n",
       "          u         v       temp         rh    r1h  ncld_upper   ncld_mid  \\\n",
       "0  4.483181 -1.828746  266.75089  55.862386  200.0    0.000002  58.691666   \n",
       "\n",
       "    ncld_low       ncld  dswrf  \n",
       "0  29.491668  58.691666  665.0  "
      ]
     },
     "execution_count": 97,
     "metadata": {},
     "output_type": "execute_result"
    }
   ],
   "source": [
    "df"
   ]
  }
 ],
 "metadata": {
  "kernelspec": {
   "display_name": "forecast",
   "language": "python",
   "name": "python3"
  },
  "language_info": {
   "codemirror_mode": {
    "name": "ipython",
    "version": 3
   },
   "file_extension": ".py",
   "mimetype": "text/x-python",
   "name": "python",
   "nbconvert_exporter": "python",
   "pygments_lexer": "ipython3",
   "version": "3.10.11"
  },
  "orig_nbformat": 4
 },
 "nbformat": 4,
 "nbformat_minor": 2
}
