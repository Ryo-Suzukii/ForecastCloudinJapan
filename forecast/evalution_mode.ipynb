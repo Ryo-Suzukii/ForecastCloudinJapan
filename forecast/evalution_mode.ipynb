{
 "cells": [
  {
   "cell_type": "code",
   "execution_count": 3,
   "metadata": {},
   "outputs": [],
   "source": [
    "import pickle\n",
    "import pandas as pd\n",
    "import matplotlib.pyplot as plt\n",
    "import xarray as xr\n",
    "import pathlib\n",
    "import sys\n",
    "import datetime as dt\n",
    "import lightgbm as lgb\n",
    "import pandas as pd\n",
    "from sklearn.model_selection import train_test_split\n",
    "from sklearn.metrics import mean_squared_error, r2_score\n",
    "import pickle\n",
    "\n",
    "ROOT_PATH = pathlib.Path().resolve().parent\n",
    "ROOT_PATH\n",
    "\n",
    "sys.path.append(str(ROOT_PATH))\n",
    "\n",
    "from modules.date_range import date_range"
   ]
  },
  {
   "cell_type": "code",
   "execution_count": 1,
   "metadata": {},
   "outputs": [
    {
     "name": "stdout",
     "output_type": "stream",
     "text": [
      "dataset Success\n",
      "combine Success\n",
      "X_df Success\n",
      "y_df Success\n"
     ]
    }
   ],
   "source": [
    "import xarray as xr\n",
    "import pathlib\n",
    "import sys\n",
    "import datetime as dt\n",
    "import lightgbm as lgb\n",
    "import pandas as pd\n",
    "from sklearn.model_selection import train_test_split\n",
    "from sklearn.metrics import mean_squared_error, r2_score\n",
    "import pickle\n",
    "\n",
    "ROOT_PATH = pathlib.Path().resolve().parent\n",
    "ROOT_PATH\n",
    "\n",
    "sys.path.append(str(ROOT_PATH))\n",
    "\n",
    "from modules.date_range import date_range\n",
    "\n",
    "\n",
    "start = dt.date(2022,1,1)\n",
    "end = dt.date(2023,1,1)\n",
    "datasets = [xr.open_dataset(date.strftime(f\"{ROOT_PATH}/data/%Y/%m/%Y_%m%d.nc\"))[['psea', 'sp', 'u', 'v', 'temp', 'rh', 'r1h', 'dswrf','ncld']].dropna(dim=\"time\") for date in date_range(start,end)]\n",
    "print(\"dataset Success\")\n",
    "del start,end\n",
    "\n",
    "\n",
    "combined_dataset = xr.concat(datasets,dim=\"time\")\n",
    "print(\"combine Success\")\n",
    "\n",
    "del datasets\n",
    "\n",
    "\n",
    "# 特徴量とターゲット変数に分割する\n",
    "X = combined_dataset[['psea', 'sp', 'u', 'v', 'temp', 'rh', 'r1h', 'dswrf']]\n",
    "y = combined_dataset['ncld']\n",
    "\n",
    "del combined_dataset\n",
    "\n",
    "\n",
    "X_df = X.to_dataframe()\n",
    "print(\"X_df Success\")\n",
    "del X\n",
    "\n",
    "\n",
    "y_df = y.to_dataframe()\n",
    "print(\"y_df Success\")\n",
    "del y\n",
    "\n",
    "\n",
    "# データセットをトレーニングセットとテストセットに分割する\n",
    "X_train, X_test, y_train, y_test = train_test_split(X_df, y_df, test_size=0.3)\n",
    "\n",
    "del X_df,y_df\n",
    "del X_train,y_train"
   ]
  },
  {
   "cell_type": "code",
   "execution_count": 11,
   "metadata": {},
   "outputs": [],
   "source": [
    "X_test.reset_index(inplace=True)"
   ]
  },
  {
   "cell_type": "code",
   "execution_count": 13,
   "metadata": {},
   "outputs": [],
   "source": [
    "y_test = y_test.reset_index()[\"ncld\"]"
   ]
  },
  {
   "cell_type": "code",
   "execution_count": 12,
   "metadata": {},
   "outputs": [],
   "source": [
    "### csvから\n",
    "X_df = pd.read_csv(ROOT_PATH/\"csv/2023-07-03X_df.csv\")\n",
    "y_df = pd.read_csv(ROOT_PATH/\"csv/2023-07-03y_df.csv\")[\"ncld\"]"
   ]
  },
  {
   "cell_type": "code",
   "execution_count": 13,
   "metadata": {},
   "outputs": [],
   "source": [
    "X_train,X_test,y_train,y_test = train_test_split(X_df,y_df,test_size=0.3,random_state=1)"
   ]
  },
  {
   "cell_type": "code",
   "execution_count": 14,
   "metadata": {},
   "outputs": [],
   "source": [
    "X_test_drop = X_test.drop([\"time\",\"lat\",\"lon\"],axis=1)"
   ]
  },
  {
   "cell_type": "code",
   "execution_count": 15,
   "metadata": {},
   "outputs": [],
   "source": [
    "with open(ROOT_PATH/\"models/model_using_msm_extract_only_amedas_point.pkl\", 'rb') as f:\n",
    "    model = pickle.load(f)"
   ]
  },
  {
   "cell_type": "code",
   "execution_count": 16,
   "metadata": {},
   "outputs": [
    {
     "data": {
      "text/html": [
       "<div>\n",
       "<style scoped>\n",
       "    .dataframe tbody tr th:only-of-type {\n",
       "        vertical-align: middle;\n",
       "    }\n",
       "\n",
       "    .dataframe tbody tr th {\n",
       "        vertical-align: top;\n",
       "    }\n",
       "\n",
       "    .dataframe thead th {\n",
       "        text-align: right;\n",
       "    }\n",
       "</style>\n",
       "<table border=\"1\" class=\"dataframe\">\n",
       "  <thead>\n",
       "    <tr style=\"text-align: right;\">\n",
       "      <th></th>\n",
       "      <th>psea</th>\n",
       "      <th>sp</th>\n",
       "      <th>u</th>\n",
       "      <th>v</th>\n",
       "      <th>temp</th>\n",
       "      <th>rh</th>\n",
       "      <th>r1h</th>\n",
       "      <th>dswrf</th>\n",
       "    </tr>\n",
       "  </thead>\n",
       "  <tbody>\n",
       "    <tr>\n",
       "      <th>0</th>\n",
       "      <td>100855.504480</td>\n",
       "      <td>100851.375764</td>\n",
       "      <td>-4.428135</td>\n",
       "      <td>0.324159</td>\n",
       "      <td>280.375021</td>\n",
       "      <td>94.245412</td>\n",
       "      <td>200.000000</td>\n",
       "      <td>665.0000</td>\n",
       "    </tr>\n",
       "    <tr>\n",
       "      <th>1</th>\n",
       "      <td>101440.825570</td>\n",
       "      <td>101440.366578</td>\n",
       "      <td>-2.617737</td>\n",
       "      <td>10.458716</td>\n",
       "      <td>300.569469</td>\n",
       "      <td>85.403669</td>\n",
       "      <td>0.544336</td>\n",
       "      <td>73.2265</td>\n",
       "    </tr>\n",
       "    <tr>\n",
       "      <th>2</th>\n",
       "      <td>102491.284266</td>\n",
       "      <td>102489.907844</td>\n",
       "      <td>-7.327217</td>\n",
       "      <td>-1.107034</td>\n",
       "      <td>290.533662</td>\n",
       "      <td>78.552752</td>\n",
       "      <td>-0.000007</td>\n",
       "      <td>46.4945</td>\n",
       "    </tr>\n",
       "    <tr>\n",
       "      <th>3</th>\n",
       "      <td>100438.532010</td>\n",
       "      <td>100435.779441</td>\n",
       "      <td>10.697248</td>\n",
       "      <td>2.581040</td>\n",
       "      <td>276.232637</td>\n",
       "      <td>68.477065</td>\n",
       "      <td>-0.000007</td>\n",
       "      <td>0.0005</td>\n",
       "    </tr>\n",
       "    <tr>\n",
       "      <th>4</th>\n",
       "      <td>102274.770509</td>\n",
       "      <td>102275.228948</td>\n",
       "      <td>-1.694190</td>\n",
       "      <td>-3.859327</td>\n",
       "      <td>282.029361</td>\n",
       "      <td>61.247707</td>\n",
       "      <td>-0.000007</td>\n",
       "      <td>0.0005</td>\n",
       "    </tr>\n",
       "    <tr>\n",
       "      <th>...</th>\n",
       "      <td>...</td>\n",
       "      <td>...</td>\n",
       "      <td>...</td>\n",
       "      <td>...</td>\n",
       "      <td>...</td>\n",
       "      <td>...</td>\n",
       "      <td>...</td>\n",
       "      <td>...</td>\n",
       "    </tr>\n",
       "    <tr>\n",
       "      <th>638354335</th>\n",
       "      <td>101050.458604</td>\n",
       "      <td>101055.962916</td>\n",
       "      <td>3.510703</td>\n",
       "      <td>4.446483</td>\n",
       "      <td>298.361069</td>\n",
       "      <td>91.165137</td>\n",
       "      <td>200.000000</td>\n",
       "      <td>665.0000</td>\n",
       "    </tr>\n",
       "    <tr>\n",
       "      <th>638354336</th>\n",
       "      <td>102675.687932</td>\n",
       "      <td>97610.091419</td>\n",
       "      <td>2.244648</td>\n",
       "      <td>0.232416</td>\n",
       "      <td>262.681684</td>\n",
       "      <td>40.800460</td>\n",
       "      <td>-0.000007</td>\n",
       "      <td>512.2135</td>\n",
       "    </tr>\n",
       "    <tr>\n",
       "      <th>638354337</th>\n",
       "      <td>101404.128323</td>\n",
       "      <td>101409.173918</td>\n",
       "      <td>2.752294</td>\n",
       "      <td>-4.171254</td>\n",
       "      <td>280.435131</td>\n",
       "      <td>77.309633</td>\n",
       "      <td>200.000000</td>\n",
       "      <td>665.0000</td>\n",
       "    </tr>\n",
       "    <tr>\n",
       "      <th>638354338</th>\n",
       "      <td>100717.431088</td>\n",
       "      <td>100713.761087</td>\n",
       "      <td>-2.935780</td>\n",
       "      <td>4.232416</td>\n",
       "      <td>293.763937</td>\n",
       "      <td>81.621559</td>\n",
       "      <td>-0.000007</td>\n",
       "      <td>419.1435</td>\n",
       "    </tr>\n",
       "    <tr>\n",
       "      <th>638354339</th>\n",
       "      <td>102772.476921</td>\n",
       "      <td>102774.311508</td>\n",
       "      <td>-2.409786</td>\n",
       "      <td>-3.541285</td>\n",
       "      <td>288.293900</td>\n",
       "      <td>67.018349</td>\n",
       "      <td>200.000000</td>\n",
       "      <td>665.0000</td>\n",
       "    </tr>\n",
       "  </tbody>\n",
       "</table>\n",
       "<p>638354340 rows × 8 columns</p>\n",
       "</div>"
      ],
      "text/plain": [
       "                    psea             sp          u          v        temp  \\\n",
       "0          100855.504480  100851.375764  -4.428135   0.324159  280.375021   \n",
       "1          101440.825570  101440.366578  -2.617737  10.458716  300.569469   \n",
       "2          102491.284266  102489.907844  -7.327217  -1.107034  290.533662   \n",
       "3          100438.532010  100435.779441  10.697248   2.581040  276.232637   \n",
       "4          102274.770509  102275.228948  -1.694190  -3.859327  282.029361   \n",
       "...                  ...            ...        ...        ...         ...   \n",
       "638354335  101050.458604  101055.962916   3.510703   4.446483  298.361069   \n",
       "638354336  102675.687932   97610.091419   2.244648   0.232416  262.681684   \n",
       "638354337  101404.128323  101409.173918   2.752294  -4.171254  280.435131   \n",
       "638354338  100717.431088  100713.761087  -2.935780   4.232416  293.763937   \n",
       "638354339  102772.476921  102774.311508  -2.409786  -3.541285  288.293900   \n",
       "\n",
       "                  rh         r1h     dswrf  \n",
       "0          94.245412  200.000000  665.0000  \n",
       "1          85.403669    0.544336   73.2265  \n",
       "2          78.552752   -0.000007   46.4945  \n",
       "3          68.477065   -0.000007    0.0005  \n",
       "4          61.247707   -0.000007    0.0005  \n",
       "...              ...         ...       ...  \n",
       "638354335  91.165137  200.000000  665.0000  \n",
       "638354336  40.800460   -0.000007  512.2135  \n",
       "638354337  77.309633  200.000000  665.0000  \n",
       "638354338  81.621559   -0.000007  419.1435  \n",
       "638354339  67.018349  200.000000  665.0000  \n",
       "\n",
       "[638354340 rows x 8 columns]"
      ]
     },
     "execution_count": 16,
     "metadata": {},
     "output_type": "execute_result"
    }
   ],
   "source": [
    "X_test_drop"
   ]
  },
  {
   "cell_type": "code",
   "execution_count": 17,
   "metadata": {},
   "outputs": [
    {
     "data": {
      "text/plain": [
       "0             6.006669\n",
       "1            56.885000\n",
       "2            46.875000\n",
       "3             0.000002\n",
       "4            35.595001\n",
       "               ...    \n",
       "638354335    22.606668\n",
       "638354336     1.075002\n",
       "638354337     1.025002\n",
       "638354338    52.246667\n",
       "638354339    38.183334\n",
       "Name: ncld, Length: 638354340, dtype: float64"
      ]
     },
     "execution_count": 17,
     "metadata": {},
     "output_type": "execute_result"
    }
   ],
   "source": [
    "y_test"
   ]
  },
  {
   "cell_type": "code",
   "execution_count": 18,
   "metadata": {},
   "outputs": [],
   "source": [
    "from sklearn.metrics import accuracy_score,precision_score,recall_score,f1_score\n",
    "\n",
    "y_pred = model.predict(X_test_drop)"
   ]
  },
  {
   "cell_type": "code",
   "execution_count": 46,
   "metadata": {},
   "outputs": [
    {
     "data": {
      "text/plain": [
       "357457     55.126666\n",
       "127869     28.320001\n",
       "1358895    61.034999\n",
       "579704      2.001669\n",
       "567645      9.716668\n",
       "             ...    \n",
       "131374      0.928336\n",
       "1571181     3.856669\n",
       "1040615    38.818334\n",
       "1609801     1.855002\n",
       "1037549    20.751668\n",
       "Name: ncld, Length: 596556, dtype: float64"
      ]
     },
     "execution_count": 46,
     "metadata": {},
     "output_type": "execute_result"
    }
   ],
   "source": [
    "y_test"
   ]
  },
  {
   "cell_type": "code",
   "execution_count": 19,
   "metadata": {},
   "outputs": [],
   "source": [
    "from sklearn.metrics import mean_squared_error, r2_score\n",
    "import numpy as np\n",
    "\n",
    "rmse = np.sqrt(mean_squared_error(y_test.values,y_pred))\n",
    "r2 = r2_score(y_test.values,y_pred)"
   ]
  },
  {
   "cell_type": "code",
   "execution_count": 20,
   "metadata": {},
   "outputs": [
    {
     "name": "stdout",
     "output_type": "stream",
     "text": [
      "RMSE: 21.197622583619264\n",
      "R2: 0.5653030738663836\n"
     ]
    }
   ],
   "source": [
    "print(f\"RMSE: {rmse}\")\n",
    "print(f\"R2: {r2}\")"
   ]
  },
  {
   "cell_type": "code",
   "execution_count": 17,
   "metadata": {},
   "outputs": [
    {
     "name": "stdout",
     "output_type": "stream",
     "text": [
      "RMSE: 21.228720399427075\n",
      "R2: 0.5636176913510266\n"
     ]
    }
   ],
   "source": [
    "print(f\"RMSE: {rmse}\")\n",
    "print(f\"R2: {r2}\")"
   ]
  },
  {
   "cell_type": "code",
   "execution_count": 47,
   "metadata": {},
   "outputs": [],
   "source": [
    "ans = X_test.copy()\n",
    "ans[\"predict_ncld\"] = y_pred\n",
    "ans[\"correct_ncld\"] = y_test\n",
    "ans[\"ncld_diff\"] = y_test - y_pred"
   ]
  },
  {
   "cell_type": "code",
   "execution_count": 49,
   "metadata": {},
   "outputs": [],
   "source": [
    "ans.to_csv(ROOT_PATH/\"csv/ans_use_msm_extract_anedas_point.csv\",index=False)"
   ]
  }
 ],
 "metadata": {
  "kernelspec": {
   "display_name": "forecast",
   "language": "python",
   "name": "python3"
  },
  "language_info": {
   "codemirror_mode": {
    "name": "ipython",
    "version": 3
   },
   "file_extension": ".py",
   "mimetype": "text/x-python",
   "name": "python",
   "nbconvert_exporter": "python",
   "pygments_lexer": "ipython3",
   "version": "3.10.0"
  },
  "orig_nbformat": 4
 },
 "nbformat": 4,
 "nbformat_minor": 2
}
