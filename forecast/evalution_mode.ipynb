{
 "cells": [
  {
   "cell_type": "code",
   "execution_count": 40,
   "metadata": {},
   "outputs": [],
   "source": [
    "import pickle\n",
    "import pandas as pd\n",
    "import matplotlib.pyplot as plt"
   ]
  },
  {
   "cell_type": "code",
   "execution_count": null,
   "metadata": {},
   "outputs": [],
   "source": [
    "import xarray as xr\n",
    "import pathlib\n",
    "import sys\n",
    "import datetime as dt\n",
    "import lightgbm as lgb\n",
    "import pandas as pd\n",
    "from sklearn.model_selection import train_test_split\n",
    "from sklearn.metrics import mean_squared_error, r2_score\n",
    "import pickle\n",
    "\n",
    "ROOT_PATH = pathlib.Path().resolve().parent\n",
    "ROOT_PATH\n",
    "\n",
    "sys.path.append(str(ROOT_PATH))\n",
    "\n",
    "from modules.date_range import date_range\n",
    "\n",
    "\n",
    "start = dt.date(2022,1,1)\n",
    "end = dt.date(2023,1,1)\n",
    "datasets = [xr.open_dataset(date.strftime(f\"{ROOT_PATH}/data/%Y/%m/%Y_%m%d.nc\"))[['psea', 'sp', 'u', 'v', 'temp', 'rh', 'r1h', 'dswrf','ncld']].dropna(dim=\"time\") for date in date_range(start,end)]\n",
    "print(\"dataset Success\")\n",
    "del start,end\n",
    "\n",
    "\n",
    "combined_dataset = xr.concat(datasets,dim=\"time\")\n",
    "print(\"combine Success\")\n",
    "\n",
    "del datasets\n",
    "\n",
    "\n",
    "# 特徴量とターゲット変数に分割する\n",
    "X = combined_dataset[['psea', 'sp', 'u', 'v', 'temp', 'rh', 'r1h', 'dswrf']]\n",
    "y = combined_dataset['ncld']\n",
    "\n",
    "del combined_dataset\n",
    "\n",
    "\n",
    "X_df = X.to_dataframe()\n",
    "print(\"X_df Success\")\n",
    "del X\n",
    "\n",
    "\n",
    "y_df = y.to_dataframe()\n",
    "print(\"y_df Success\")\n",
    "del y\n",
    "\n",
    "\n",
    "# データセットをトレーニングセットとテストセットに分割する\n",
    "X_train, X_test, y_train, y_test = train_test_split(X_df, y_df, test_size=0.3)\n",
    "\n",
    "del X_df,y_df\n",
    "del X_train,y_train"
   ]
  },
  {
   "cell_type": "code",
   "execution_count": 2,
   "metadata": {},
   "outputs": [],
   "source": [
    "### csvから\n",
    "X_df = pd.read_csv(ROOT_PATH/\"csv/2023-07-03X_df.csv\")\n",
    "y_df = pd.read_csv(ROOT_PATH/\"csv/2023-07-03y_df.csv\")[\"ncld\"]"
   ]
  },
  {
   "cell_type": "code",
   "execution_count": 41,
   "metadata": {},
   "outputs": [],
   "source": [
    "X_train,X_test,y_train,y_test = train_test_split(X_df,y_df,test_size=0.3,random_state=1)"
   ]
  },
  {
   "cell_type": "code",
   "execution_count": 42,
   "metadata": {},
   "outputs": [],
   "source": [
    "X_test_drop = X_test.drop([\"time\",\"lat\",\"lon\"],axis=1)"
   ]
  },
  {
   "cell_type": "code",
   "execution_count": 31,
   "metadata": {},
   "outputs": [],
   "source": [
    "X_test_drop[\"ncld\"] = y_test\n",
    "X_test.to_csv(ROOT_PATH/\"csv/evalution_test.csv\",index=False)"
   ]
  },
  {
   "cell_type": "code",
   "execution_count": 11,
   "metadata": {},
   "outputs": [],
   "source": [
    "with open(ROOT_PATH/\"models/model_using_msm_extract_only_amedas_point.pkl\", 'rb') as f:\n",
    "    model = pickle.load(f)"
   ]
  },
  {
   "cell_type": "code",
   "execution_count": 43,
   "metadata": {},
   "outputs": [
    {
     "data": {
      "text/html": [
       "<div>\n",
       "<style scoped>\n",
       "    .dataframe tbody tr th:only-of-type {\n",
       "        vertical-align: middle;\n",
       "    }\n",
       "\n",
       "    .dataframe tbody tr th {\n",
       "        vertical-align: top;\n",
       "    }\n",
       "\n",
       "    .dataframe thead th {\n",
       "        text-align: right;\n",
       "    }\n",
       "</style>\n",
       "<table border=\"1\" class=\"dataframe\">\n",
       "  <thead>\n",
       "    <tr style=\"text-align: right;\">\n",
       "      <th></th>\n",
       "      <th>psea</th>\n",
       "      <th>sp</th>\n",
       "      <th>u</th>\n",
       "      <th>v</th>\n",
       "      <th>temp</th>\n",
       "      <th>rh</th>\n",
       "      <th>r1h</th>\n",
       "      <th>dswrf</th>\n",
       "    </tr>\n",
       "  </thead>\n",
       "  <tbody>\n",
       "    <tr>\n",
       "      <th>357457</th>\n",
       "      <td>101316.972361</td>\n",
       "      <td>101247.706032</td>\n",
       "      <td>-1.944954</td>\n",
       "      <td>2.079511</td>\n",
       "      <td>279.483820</td>\n",
       "      <td>70.263762</td>\n",
       "      <td>-0.000007</td>\n",
       "      <td>266.6645</td>\n",
       "    </tr>\n",
       "    <tr>\n",
       "      <th>127869</th>\n",
       "      <td>102545.412705</td>\n",
       "      <td>101700.917032</td>\n",
       "      <td>-0.397554</td>\n",
       "      <td>1.204893</td>\n",
       "      <td>276.378993</td>\n",
       "      <td>77.527523</td>\n",
       "      <td>200.000000</td>\n",
       "      <td>665.0000</td>\n",
       "    </tr>\n",
       "    <tr>\n",
       "      <th>1358895</th>\n",
       "      <td>101456.880615</td>\n",
       "      <td>101385.320708</td>\n",
       "      <td>1.223242</td>\n",
       "      <td>-2.770642</td>\n",
       "      <td>296.468901</td>\n",
       "      <td>79.550459</td>\n",
       "      <td>200.000000</td>\n",
       "      <td>665.0000</td>\n",
       "    </tr>\n",
       "    <tr>\n",
       "      <th>579704</th>\n",
       "      <td>102533.944816</td>\n",
       "      <td>102351.375736</td>\n",
       "      <td>-0.525994</td>\n",
       "      <td>-3.333333</td>\n",
       "      <td>282.275029</td>\n",
       "      <td>42.660552</td>\n",
       "      <td>-0.000007</td>\n",
       "      <td>300.6945</td>\n",
       "    </tr>\n",
       "    <tr>\n",
       "      <th>567645</th>\n",
       "      <td>102951.834716</td>\n",
       "      <td>102712.843619</td>\n",
       "      <td>0.941896</td>\n",
       "      <td>-2.935780</td>\n",
       "      <td>278.122191</td>\n",
       "      <td>50.052753</td>\n",
       "      <td>200.000000</td>\n",
       "      <td>665.0000</td>\n",
       "    </tr>\n",
       "    <tr>\n",
       "      <th>...</th>\n",
       "      <td>...</td>\n",
       "      <td>...</td>\n",
       "      <td>...</td>\n",
       "      <td>...</td>\n",
       "      <td>...</td>\n",
       "      <td>...</td>\n",
       "      <td>...</td>\n",
       "      <td>...</td>\n",
       "    </tr>\n",
       "    <tr>\n",
       "      <th>131374</th>\n",
       "      <td>102553.210870</td>\n",
       "      <td>100992.660165</td>\n",
       "      <td>2.360856</td>\n",
       "      <td>-1.394495</td>\n",
       "      <td>279.376667</td>\n",
       "      <td>65.910551</td>\n",
       "      <td>-0.000007</td>\n",
       "      <td>0.0005</td>\n",
       "    </tr>\n",
       "    <tr>\n",
       "      <th>1571181</th>\n",
       "      <td>102076.605375</td>\n",
       "      <td>101828.439966</td>\n",
       "      <td>-0.342508</td>\n",
       "      <td>1.223242</td>\n",
       "      <td>289.388953</td>\n",
       "      <td>72.493119</td>\n",
       "      <td>200.000000</td>\n",
       "      <td>665.0000</td>\n",
       "    </tr>\n",
       "    <tr>\n",
       "      <th>1040615</th>\n",
       "      <td>101763.761344</td>\n",
       "      <td>101088.990438</td>\n",
       "      <td>-0.801223</td>\n",
       "      <td>2.336392</td>\n",
       "      <td>298.985693</td>\n",
       "      <td>91.259174</td>\n",
       "      <td>-0.000007</td>\n",
       "      <td>318.9805</td>\n",
       "    </tr>\n",
       "    <tr>\n",
       "      <th>1609801</th>\n",
       "      <td>101786.238407</td>\n",
       "      <td>101589.907860</td>\n",
       "      <td>-2.201835</td>\n",
       "      <td>-1.810398</td>\n",
       "      <td>297.577021</td>\n",
       "      <td>76.522936</td>\n",
       "      <td>-0.000007</td>\n",
       "      <td>605.6730</td>\n",
       "    </tr>\n",
       "    <tr>\n",
       "      <th>1037549</th>\n",
       "      <td>101629.357676</td>\n",
       "      <td>101379.816121</td>\n",
       "      <td>2.911315</td>\n",
       "      <td>3.565749</td>\n",
       "      <td>299.341128</td>\n",
       "      <td>89.431192</td>\n",
       "      <td>-0.000007</td>\n",
       "      <td>816.8435</td>\n",
       "    </tr>\n",
       "  </tbody>\n",
       "</table>\n",
       "<p>596556 rows × 8 columns</p>\n",
       "</div>"
      ],
      "text/plain": [
       "                  psea             sp         u         v        temp  \\\n",
       "357457   101316.972361  101247.706032 -1.944954  2.079511  279.483820   \n",
       "127869   102545.412705  101700.917032 -0.397554  1.204893  276.378993   \n",
       "1358895  101456.880615  101385.320708  1.223242 -2.770642  296.468901   \n",
       "579704   102533.944816  102351.375736 -0.525994 -3.333333  282.275029   \n",
       "567645   102951.834716  102712.843619  0.941896 -2.935780  278.122191   \n",
       "...                ...            ...       ...       ...         ...   \n",
       "131374   102553.210870  100992.660165  2.360856 -1.394495  279.376667   \n",
       "1571181  102076.605375  101828.439966 -0.342508  1.223242  289.388953   \n",
       "1040615  101763.761344  101088.990438 -0.801223  2.336392  298.985693   \n",
       "1609801  101786.238407  101589.907860 -2.201835 -1.810398  297.577021   \n",
       "1037549  101629.357676  101379.816121  2.911315  3.565749  299.341128   \n",
       "\n",
       "                rh         r1h     dswrf  \n",
       "357457   70.263762   -0.000007  266.6645  \n",
       "127869   77.527523  200.000000  665.0000  \n",
       "1358895  79.550459  200.000000  665.0000  \n",
       "579704   42.660552   -0.000007  300.6945  \n",
       "567645   50.052753  200.000000  665.0000  \n",
       "...            ...         ...       ...  \n",
       "131374   65.910551   -0.000007    0.0005  \n",
       "1571181  72.493119  200.000000  665.0000  \n",
       "1040615  91.259174   -0.000007  318.9805  \n",
       "1609801  76.522936   -0.000007  605.6730  \n",
       "1037549  89.431192   -0.000007  816.8435  \n",
       "\n",
       "[596556 rows x 8 columns]"
      ]
     },
     "execution_count": 43,
     "metadata": {},
     "output_type": "execute_result"
    }
   ],
   "source": [
    "X_test_drop"
   ]
  },
  {
   "cell_type": "code",
   "execution_count": 44,
   "metadata": {},
   "outputs": [
    {
     "data": {
      "text/plain": [
       "357457     55.126666\n",
       "127869     28.320001\n",
       "1358895    61.034999\n",
       "579704      2.001669\n",
       "567645      9.716668\n",
       "             ...    \n",
       "131374      0.928336\n",
       "1571181     3.856669\n",
       "1040615    38.818334\n",
       "1609801     1.855002\n",
       "1037549    20.751668\n",
       "Name: ncld, Length: 596556, dtype: float64"
      ]
     },
     "execution_count": 44,
     "metadata": {},
     "output_type": "execute_result"
    }
   ],
   "source": [
    "y_test"
   ]
  },
  {
   "cell_type": "code",
   "execution_count": 45,
   "metadata": {},
   "outputs": [],
   "source": [
    "from sklearn.metrics import accuracy_score,precision_score,recall_score,f1_score\n",
    "\n",
    "y_pred = model.predict(X_test_drop)"
   ]
  },
  {
   "cell_type": "code",
   "execution_count": 46,
   "metadata": {},
   "outputs": [
    {
     "data": {
      "text/plain": [
       "357457     55.126666\n",
       "127869     28.320001\n",
       "1358895    61.034999\n",
       "579704      2.001669\n",
       "567645      9.716668\n",
       "             ...    \n",
       "131374      0.928336\n",
       "1571181     3.856669\n",
       "1040615    38.818334\n",
       "1609801     1.855002\n",
       "1037549    20.751668\n",
       "Name: ncld, Length: 596556, dtype: float64"
      ]
     },
     "execution_count": 46,
     "metadata": {},
     "output_type": "execute_result"
    }
   ],
   "source": [
    "y_test"
   ]
  },
  {
   "cell_type": "code",
   "execution_count": 16,
   "metadata": {},
   "outputs": [],
   "source": [
    "from sklearn.metrics import mean_squared_error, r2_score\n",
    "import numpy as np\n",
    "\n",
    "rmse = np.sqrt(mean_squared_error(y_test.values,y_pred))\n",
    "r2 = r2_score(y_test.values,y_pred)"
   ]
  },
  {
   "cell_type": "code",
   "execution_count": 37,
   "metadata": {},
   "outputs": [
    {
     "name": "stdout",
     "output_type": "stream",
     "text": [
      "RMSE: 23.543900686948984\n",
      "R2: 0.45154444286971285\n"
     ]
    }
   ],
   "source": [
    "print(f\"RMSE: {rmse}\")\n",
    "print(f\"R2: {r2}\")"
   ]
  },
  {
   "cell_type": "code",
   "execution_count": 17,
   "metadata": {},
   "outputs": [
    {
     "name": "stdout",
     "output_type": "stream",
     "text": [
      "RMSE: 21.228720399427075\n",
      "R2: 0.5636176913510266\n"
     ]
    }
   ],
   "source": [
    "print(f\"RMSE: {rmse}\")\n",
    "print(f\"R2: {r2}\")"
   ]
  },
  {
   "cell_type": "code",
   "execution_count": 47,
   "metadata": {},
   "outputs": [],
   "source": [
    "ans = X_test.copy()\n",
    "ans[\"predict_ncld\"] = y_pred\n",
    "ans[\"correct_ncld\"] = y_test\n",
    "ans[\"ncld_diff\"] = y_test - y_pred"
   ]
  },
  {
   "cell_type": "code",
   "execution_count": 49,
   "metadata": {},
   "outputs": [],
   "source": [
    "ans.to_csv(ROOT_PATH/\"csv/ans_use_msm_extract_anedas_point.csv\",index=False)"
   ]
  }
 ],
 "metadata": {
  "kernelspec": {
   "display_name": "forecast",
   "language": "python",
   "name": "python3"
  },
  "language_info": {
   "codemirror_mode": {
    "name": "ipython",
    "version": 3
   },
   "file_extension": ".py",
   "mimetype": "text/x-python",
   "name": "python",
   "nbconvert_exporter": "python",
   "pygments_lexer": "ipython3",
   "version": "3.10.0"
  },
  "orig_nbformat": 4
 },
 "nbformat": 4,
 "nbformat_minor": 2
}
