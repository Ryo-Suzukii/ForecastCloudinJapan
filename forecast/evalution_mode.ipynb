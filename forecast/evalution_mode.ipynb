{
 "cells": [
  {
   "cell_type": "code",
   "execution_count": 40,
   "metadata": {},
   "outputs": [],
   "source": [
    "import pickle\n",
    "import pandas as pd\n",
    "import matplotlib.pyplot as plt"
   ]
  },
  {
   "cell_type": "code",
   "execution_count": 8,
   "metadata": {},
   "outputs": [
    {
     "name": "stdout",
     "output_type": "stream",
     "text": [
      "dataset Success\n",
      "combine Success\n",
      "X_df Success\n",
      "y_df Success\n"
     ]
    }
   ],
   "source": [
    "import xarray as xr\n",
    "import pathlib\n",
    "import sys\n",
    "import datetime as dt\n",
    "import lightgbm as lgb\n",
    "import pandas as pd\n",
    "from sklearn.model_selection import train_test_split\n",
    "from sklearn.metrics import mean_squared_error, r2_score\n",
    "import pickle\n",
    "\n",
    "ROOT_PATH = pathlib.Path().resolve().parent\n",
    "ROOT_PATH\n",
    "\n",
    "sys.path.append(str(ROOT_PATH))\n",
    "\n",
    "from modules.date_range import date_range\n",
    "\n",
    "\n",
    "start = dt.date(2022,1,1)\n",
    "end = dt.date(2023,1,1)\n",
    "datasets = [xr.open_dataset(date.strftime(f\"{ROOT_PATH}/data/%Y/%m/%Y_%m%d.nc\"))[['psea', 'sp', 'u', 'v', 'temp', 'rh', 'r1h', 'dswrf','ncld']].dropna(dim=\"time\") for date in date_range(start,end)]\n",
    "print(\"dataset Success\")\n",
    "del start,end\n",
    "\n",
    "\n",
    "combined_dataset = xr.concat(datasets,dim=\"time\")\n",
    "print(\"combine Success\")\n",
    "\n",
    "del datasets\n",
    "\n",
    "\n",
    "# 特徴量とターゲット変数に分割する\n",
    "X = combined_dataset[['psea', 'sp', 'u', 'v', 'temp', 'rh', 'r1h', 'dswrf']]\n",
    "y = combined_dataset['ncld']\n",
    "\n",
    "del combined_dataset\n",
    "\n",
    "\n",
    "X_df = X.to_dataframe()\n",
    "print(\"X_df Success\")\n",
    "del X\n",
    "\n",
    "\n",
    "y_df = y.to_dataframe()\n",
    "print(\"y_df Success\")\n",
    "del y\n",
    "\n",
    "\n",
    "# データセットをトレーニングセットとテストセットに分割する\n",
    "X_train, X_test, y_train, y_test = train_test_split(X_df, y_df, test_size=0.3)\n",
    "\n",
    "del X_df,y_df\n",
    "del X_train,y_train"
   ]
  },
  {
   "cell_type": "code",
   "execution_count": 5,
   "metadata": {},
   "outputs": [],
   "source": [
    "with open(ROOT_PATH/\"model_using_msm.pkl\", 'rb') as f:\n",
    "    model = pickle.load(f)"
   ]
  },
  {
   "cell_type": "code",
   "execution_count": null,
   "metadata": {},
   "outputs": [],
   "source": [
    "from sklearn.metrics import accuracy_score,precision_score,recall_score,f1_score\n",
    "\n",
    "y_pred = model.predict(X_test)"
   ]
  },
  {
   "cell_type": "code",
   "execution_count": 35,
   "metadata": {},
   "outputs": [],
   "source": [
    "from sklearn.metrics import mean_squared_error, r2_score\n",
    "import numpy as np\n",
    "\n",
    "rmse = np.sqrt(mean_squared_error(y_test[\"ncld\"].values,y_pred))\n",
    "r2 = r2_score(y_test[\"ncld\"].values,y_pred)"
   ]
  },
  {
   "cell_type": "code",
   "execution_count": 37,
   "metadata": {},
   "outputs": [
    {
     "name": "stdout",
     "output_type": "stream",
     "text": [
      "RMSE: 23.543900686948984\n",
      "R2: 0.45154444286971285\n"
     ]
    }
   ],
   "source": [
    "print(f\"RMSE: {rmse}\")\n",
    "print(f\"R2: {r2}\")"
   ]
  }
 ],
 "metadata": {
  "kernelspec": {
   "display_name": "forecast",
   "language": "python",
   "name": "python3"
  },
  "language_info": {
   "codemirror_mode": {
    "name": "ipython",
    "version": 3
   },
   "file_extension": ".py",
   "mimetype": "text/x-python",
   "name": "python",
   "nbconvert_exporter": "python",
   "pygments_lexer": "ipython3",
   "version": "3.10.0"
  },
  "orig_nbformat": 4
 },
 "nbformat": 4,
 "nbformat_minor": 2
}
