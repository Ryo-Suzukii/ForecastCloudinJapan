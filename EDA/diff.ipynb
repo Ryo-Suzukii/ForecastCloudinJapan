{
 "cells": [
  {
   "cell_type": "code",
   "execution_count": 2,
   "metadata": {},
   "outputs": [],
   "source": [
    "import numpy as np\n",
    "import pandas as pd\n",
    "import xarray as xr\n",
    "import matplotlib.pyplot as plt\n",
    "import japanize_matplotlib\n",
    "import datetime as dt\n",
    "\n",
    "import sys\n",
    "sys.path.append(\"../\")\n",
    "\n",
    "import modules"
   ]
  },
  {
   "cell_type": "code",
   "execution_count": 3,
   "metadata": {},
   "outputs": [],
   "source": [
    "date = dt.date(2022,1,1)\n",
    "ds = xr.open_dataset(f\"../data/{date.year}/{str(date.month).zfill(2)}/{date.year}_{str(date.month).zfill(2)}{str(date.day).zfill(2)}.nc\")"
   ]
  },
  {
   "cell_type": "code",
   "execution_count": 15,
   "metadata": {},
   "outputs": [
    {
     "data": {
      "text/plain": [
       "array([2.27000000e-06, 2.27000000e-06, 2.27000000e-06, 2.27000000e-06,\n",
       "       2.27000000e-06, 2.27000000e-06, 2.27000000e-06, 2.27000000e-06,\n",
       "       2.27000000e-06, 2.27000000e-06, 2.27000000e-06, 2.27000000e-06,\n",
       "       2.27000000e-06, 9.83355989e-02, 8.30002232e-01, 7.86166858e+00,\n",
       "       2.58300011e+01, 3.99900005e+01, 3.14933342e+01, 3.00300009e+01,\n",
       "       3.48150007e+01, 4.30666670e+01, 3.13483342e+01, 1.38183350e+01])"
      ]
     },
     "execution_count": 15,
     "metadata": {},
     "output_type": "execute_result"
    }
   ],
   "source": [
    "ds.sel(lat=35,lon=139)['ncld'].values"
   ]
  }
 ],
 "metadata": {
  "kernelspec": {
   "display_name": "forecast",
   "language": "python",
   "name": "python3"
  },
  "language_info": {
   "codemirror_mode": {
    "name": "ipython",
    "version": 3
   },
   "file_extension": ".py",
   "mimetype": "text/x-python",
   "name": "python",
   "nbconvert_exporter": "python",
   "pygments_lexer": "ipython3",
   "version": "3.10.11"
  },
  "orig_nbformat": 4
 },
 "nbformat": 4,
 "nbformat_minor": 2
}
